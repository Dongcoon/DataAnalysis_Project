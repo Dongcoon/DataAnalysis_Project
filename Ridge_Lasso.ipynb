{
 "cells": [
  {
   "cell_type": "code",
   "execution_count": 1,
   "id": "12f2d69f-2759-40c0-a444-abdf08820d01",
   "metadata": {},
   "outputs": [],
   "source": [
    "import numpy as np\n",
    "import pandas as pd\n",
    "import matplotlib.pyplot as plt\n",
    "import seaborn as sns\n",
    "\n",
    "from statsmodels.formula.api import ols"
   ]
  },
  {
   "cell_type": "code",
   "execution_count": 2,
   "id": "e4b158e4-0d99-4f1b-8149-9b3a04f43d4a",
   "metadata": {},
   "outputs": [],
   "source": [
    "%matplotlib inline\n",
    "from matplotlib import style\n",
    "from sklearn.ensemble import RandomForestRegressor\n",
    "from sklearn.model_selection import train_test_split\n",
    "from sklearn.linear_model import LinearRegression\n",
    "from sklearn.metrics import mean_squared_error\n",
    "from sklearn.metrics import r2_score\n",
    "\n",
    "from sklearn.linear_model import LogisticRegression\n",
    "from sklearn.linear_model import Lasso,Ridge\n",
    "from sklearn.neighbors import KNeighborsRegressor\n",
    "from sklearn.tree import DecisionTreeRegressor"
   ]
  },
  {
   "cell_type": "markdown",
   "id": "277a4934-0fa4-4046-a53c-89c5d0eaaaa8",
   "metadata": {},
   "source": [
    "## 분석"
   ]
  },
  {
   "cell_type": "code",
   "execution_count": 3,
   "id": "1ea13213-9d3c-485d-99be-adb07177403f",
   "metadata": {},
   "outputs": [],
   "source": [
    "plt.rcParams['font.family'] = 'NanumGothic'"
   ]
  },
  {
   "cell_type": "code",
   "execution_count": 65,
   "id": "bd695f43-7afe-4835-bfc5-122a40e03fb0",
   "metadata": {},
   "outputs": [],
   "source": [
    "df = pd.read_csv('result/scale_data2.csv',encoding='euc-kr')"
   ]
  },
  {
   "cell_type": "code",
   "execution_count": 48,
   "id": "27caf9ca-d4ac-46d8-901e-e6f5edd2c2ab",
   "metadata": {},
   "outputs": [],
   "source": [
    "lo = ['속초', '북춘천', '철원', '동두천', '파주', '대관령', '춘천', '백령도', '북강릉', '강릉',\n",
    "       '동해', '서울', '인천', '원주', '울릉도', '수원', '영월', '충주', '서산', '울진', '청주',\n",
    "       '대전', '추풍령', '안동', '상주', '포항', '군산', '대구', '전주', '울산', '창원', '광주',\n",
    "       '부산', '통영', '목포', '여수', '흑산도', '완도', '고창', '순천', '홍성', '제주', '고산',\n",
    "       '성산', '서귀포', '진주', '강화', '양평', '이천', '인제', '홍천', '태백', '제천', '보은',\n",
    "       '천안', '보령', '부여', '금산', '부안', '임실', '정읍', '남원', '장수', '고창군', '장흥',\n",
    "       '해남', '고흥', '봉화', '영주', '문경', '영덕', '의성', '구미', '영천', '거창', '합천',\n",
    "       '밀양', '산청', '거제', '남해']\n",
    "\n",
    "# lo = ['속초', '북춘천', '철원', '동두천']"
   ]
  },
  {
   "cell_type": "code",
   "execution_count": 66,
   "id": "ed15247d-0f08-493e-96ab-323081ffa8d6",
   "metadata": {},
   "outputs": [
    {
     "data": {
      "text/html": [
       "<div>\n",
       "<style scoped>\n",
       "    .dataframe tbody tr th:only-of-type {\n",
       "        vertical-align: middle;\n",
       "    }\n",
       "\n",
       "    .dataframe tbody tr th {\n",
       "        vertical-align: top;\n",
       "    }\n",
       "\n",
       "    .dataframe thead th {\n",
       "        text-align: right;\n",
       "    }\n",
       "</style>\n",
       "<table border=\"1\" class=\"dataframe\">\n",
       "  <thead>\n",
       "    <tr style=\"text-align: right;\">\n",
       "      <th></th>\n",
       "      <th>avg_tem</th>\n",
       "      <th>precip</th>\n",
       "      <th>wind</th>\n",
       "      <th>min_tem</th>\n",
       "      <th>hPa</th>\n",
       "      <th>sun</th>\n",
       "      <th>g_tem</th>\n",
       "      <th>start</th>\n",
       "      <th>climax</th>\n",
       "      <th>location</th>\n",
       "      <th>month</th>\n",
       "      <th>start_ori</th>\n",
       "      <th>climax_ori</th>\n",
       "    </tr>\n",
       "  </thead>\n",
       "  <tbody>\n",
       "    <tr>\n",
       "      <th>0</th>\n",
       "      <td>-1.247466</td>\n",
       "      <td>0.402997</td>\n",
       "      <td>0.610378</td>\n",
       "      <td>-1.011473</td>\n",
       "      <td>1.377900</td>\n",
       "      <td>-1.644535</td>\n",
       "      <td>-1.383570</td>\n",
       "      <td>-1.185865</td>\n",
       "      <td>-1.100662</td>\n",
       "      <td>속초</td>\n",
       "      <td>1</td>\n",
       "      <td>286</td>\n",
       "      <td>297</td>\n",
       "    </tr>\n",
       "    <tr>\n",
       "      <th>1</th>\n",
       "      <td>-1.115408</td>\n",
       "      <td>-0.371672</td>\n",
       "      <td>0.425066</td>\n",
       "      <td>-0.907514</td>\n",
       "      <td>1.280241</td>\n",
       "      <td>-0.679134</td>\n",
       "      <td>-1.274240</td>\n",
       "      <td>-1.185865</td>\n",
       "      <td>-1.100662</td>\n",
       "      <td>속초</td>\n",
       "      <td>2</td>\n",
       "      <td>286</td>\n",
       "      <td>297</td>\n",
       "    </tr>\n",
       "    <tr>\n",
       "      <th>2</th>\n",
       "      <td>-0.763254</td>\n",
       "      <td>0.062636</td>\n",
       "      <td>0.981002</td>\n",
       "      <td>-0.585241</td>\n",
       "      <td>0.874578</td>\n",
       "      <td>-0.198700</td>\n",
       "      <td>-0.856801</td>\n",
       "      <td>-1.185865</td>\n",
       "      <td>-1.100662</td>\n",
       "      <td>속초</td>\n",
       "      <td>3</td>\n",
       "      <td>286</td>\n",
       "      <td>297</td>\n",
       "    </tr>\n",
       "    <tr>\n",
       "      <th>3</th>\n",
       "      <td>-0.047939</td>\n",
       "      <td>-0.826770</td>\n",
       "      <td>0.981002</td>\n",
       "      <td>-0.075842</td>\n",
       "      <td>0.596625</td>\n",
       "      <td>0.995587</td>\n",
       "      <td>-0.051739</td>\n",
       "      <td>-1.185865</td>\n",
       "      <td>-1.100662</td>\n",
       "      <td>속초</td>\n",
       "      <td>4</td>\n",
       "      <td>286</td>\n",
       "      <td>297</td>\n",
       "    </tr>\n",
       "    <tr>\n",
       "      <th>4</th>\n",
       "      <td>0.403259</td>\n",
       "      <td>-0.360121</td>\n",
       "      <td>1.258970</td>\n",
       "      <td>0.443953</td>\n",
       "      <td>0.393794</td>\n",
       "      <td>1.575734</td>\n",
       "      <td>0.395517</td>\n",
       "      <td>-1.185865</td>\n",
       "      <td>-1.100662</td>\n",
       "      <td>속초</td>\n",
       "      <td>5</td>\n",
       "      <td>286</td>\n",
       "      <td>297</td>\n",
       "    </tr>\n",
       "  </tbody>\n",
       "</table>\n",
       "</div>"
      ],
      "text/plain": [
       "    avg_tem    precip      wind   min_tem       hPa       sun     g_tem  \\\n",
       "0 -1.247466  0.402997  0.610378 -1.011473  1.377900 -1.644535 -1.383570   \n",
       "1 -1.115408 -0.371672  0.425066 -0.907514  1.280241 -0.679134 -1.274240   \n",
       "2 -0.763254  0.062636  0.981002 -0.585241  0.874578 -0.198700 -0.856801   \n",
       "3 -0.047939 -0.826770  0.981002 -0.075842  0.596625  0.995587 -0.051739   \n",
       "4  0.403259 -0.360121  1.258970  0.443953  0.393794  1.575734  0.395517   \n",
       "\n",
       "      start    climax location  month  start_ori  climax_ori  \n",
       "0 -1.185865 -1.100662       속초      1        286         297  \n",
       "1 -1.185865 -1.100662       속초      2        286         297  \n",
       "2 -1.185865 -1.100662       속초      3        286         297  \n",
       "3 -1.185865 -1.100662       속초      4        286         297  \n",
       "4 -1.185865 -1.100662       속초      5        286         297  "
      ]
     },
     "execution_count": 66,
     "metadata": {},
     "output_type": "execute_result"
    }
   ],
   "source": [
    "df.head()"
   ]
  },
  {
   "cell_type": "code",
   "execution_count": 57,
   "id": "36acb95b-03ac-46c8-895b-89ad43b6bd85",
   "metadata": {},
   "outputs": [],
   "source": [
    "result = pd.DataFrame({'location':lo})"
   ]
  },
  {
   "cell_type": "code",
   "execution_count": 68,
   "id": "73ef2ade-2388-4ddd-a26c-b4311352cda4",
   "metadata": {
    "tags": []
   },
   "outputs": [],
   "source": [
    "for j in range(len(lo)):\n",
    "    error = []\n",
    "\n",
    "    for i in range(len(lo)):\n",
    "        cond1 = (df.month == 9) & (df.location == f'{lo[j]}')\n",
    "        cond2 = (df.month == 9) & (df.location == f'{lo[i]}')\n",
    "\n",
    "        train = df[cond1]\n",
    "        test = df[cond2]\n",
    "\n",
    "        LR = Ridge(alpha=0.0001)\n",
    "\n",
    "\n",
    "        X = train.iloc[:,[0,3,6]]\n",
    "        y = train.iloc[:,[8]]\n",
    "\n",
    "        X_test = test.iloc[:,[0,3,6]]\n",
    "        y_test = test.iloc[:,[8]] \n",
    "\n",
    "\n",
    "        LR.fit(X,y)\n",
    "\n",
    "        pred = LR.predict(X_test)\n",
    "\n",
    "        # result = pd.DataFrame({'year':test.year,'climax':test.climax,'pred':pred.reshape(1,-1)[0]})\n",
    "        error.append(round(np.sqrt(mean_squared_error(pred, y_test)),2))\n",
    "        # print(np.sqrt(mean_squared_error(pred, y_test)))\n",
    "    result[f'{lo[j]}'] = error"
   ]
  },
  {
   "cell_type": "code",
   "execution_count": 70,
   "id": "252f40f0-4fa9-40e5-a78a-92a9a0156f1c",
   "metadata": {},
   "outputs": [],
   "source": [
    "result.to_csv('regression/Ridge_result.csv',encoding='cp949',index=False)"
   ]
  },
  {
   "cell_type": "code",
   "execution_count": null,
   "id": "7ec4f960-980d-4974-81f0-0cd3a7308ad3",
   "metadata": {},
   "outputs": [],
   "source": []
  }
 ],
 "metadata": {
  "kernelspec": {
   "display_name": "Python 3 (ipykernel)",
   "language": "python",
   "name": "python3"
  },
  "language_info": {
   "codemirror_mode": {
    "name": "ipython",
    "version": 3
   },
   "file_extension": ".py",
   "mimetype": "text/x-python",
   "name": "python",
   "nbconvert_exporter": "python",
   "pygments_lexer": "ipython3",
   "version": "3.9.15"
  }
 },
 "nbformat": 4,
 "nbformat_minor": 5
}
