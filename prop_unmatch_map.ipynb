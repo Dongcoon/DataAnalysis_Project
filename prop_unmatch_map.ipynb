{
 "cells": [
  {
   "cell_type": "code",
   "execution_count": 1,
   "id": "27326816-edd8-4518-9cd7-708039a37e87",
   "metadata": {},
   "outputs": [],
   "source": [
    "import numpy as np\n",
    "import pandas as pd\n",
    "import matplotlib.pyplot as plt\n",
    "import seaborn as sns\n",
    "\n",
    "import geopandas as gpd"
   ]
  },
  {
   "cell_type": "code",
   "execution_count": 2,
   "id": "852c8bd3-fa39-4b37-8d28-7bb0f9d51a44",
   "metadata": {},
   "outputs": [],
   "source": [
    "import folium\n",
    "from ipywidgets.embed import embed_minimal_html\n",
    "from IPython.display import display, HTML"
   ]
  },
  {
   "cell_type": "code",
   "execution_count": 3,
   "id": "f0281323-f8d1-42d5-82ea-6b39a9731db5",
   "metadata": {},
   "outputs": [],
   "source": [
    "plt.rcParams['font.family'] = 'NanumGothic'\n",
    "plt.rcParams['figure.figsize'] = (10,10)"
   ]
  },
  {
   "cell_type": "code",
   "execution_count": 4,
   "id": "567bce05-663a-4340-8554-4844c979b286",
   "metadata": {
    "tags": []
   },
   "outputs": [
    {
     "data": {
      "text/html": [
       "<div>\n",
       "<style scoped>\n",
       "    .dataframe tbody tr th:only-of-type {\n",
       "        vertical-align: middle;\n",
       "    }\n",
       "\n",
       "    .dataframe tbody tr th {\n",
       "        vertical-align: top;\n",
       "    }\n",
       "\n",
       "    .dataframe thead th {\n",
       "        text-align: right;\n",
       "    }\n",
       "</style>\n",
       "<table border=\"1\" class=\"dataframe\">\n",
       "  <thead>\n",
       "    <tr style=\"text-align: right;\">\n",
       "      <th></th>\n",
       "      <th>SIG_CD</th>\n",
       "      <th>SIG_ENG_NM</th>\n",
       "      <th>SIG_KOR_NM</th>\n",
       "      <th>geometry</th>\n",
       "    </tr>\n",
       "  </thead>\n",
       "  <tbody>\n",
       "    <tr>\n",
       "      <th>167</th>\n",
       "      <td>43111</td>\n",
       "      <td>Cheongju</td>\n",
       "      <td>청주</td>\n",
       "      <td>POLYGON ((1010533.214 1856610.411, 1010536.149...</td>\n",
       "    </tr>\n",
       "    <tr>\n",
       "      <th>168</th>\n",
       "      <td>47111</td>\n",
       "      <td>Pohang-si</td>\n",
       "      <td>포항</td>\n",
       "      <td>MULTIPOLYGON (((1181905.008 1785427.049, 11819...</td>\n",
       "    </tr>\n",
       "    <tr>\n",
       "      <th>169</th>\n",
       "      <td>48121</td>\n",
       "      <td>Changwon</td>\n",
       "      <td>창원</td>\n",
       "      <td>MULTIPOLYGON (((1103125.017 1692322.123, 11031...</td>\n",
       "    </tr>\n",
       "    <tr>\n",
       "      <th>170</th>\n",
       "      <td>44131</td>\n",
       "      <td>Cheonan</td>\n",
       "      <td>천안</td>\n",
       "      <td>POLYGON ((981931.111 1876834.770, 981951.314 1...</td>\n",
       "    </tr>\n",
       "    <tr>\n",
       "      <th>171</th>\n",
       "      <td>31110</td>\n",
       "      <td>Ulsan</td>\n",
       "      <td>울산</td>\n",
       "      <td>MULTIPOLYGON (((1169009.652 1729037.319, 11689...</td>\n",
       "    </tr>\n",
       "  </tbody>\n",
       "</table>\n",
       "</div>"
      ],
      "text/plain": [
       "    SIG_CD SIG_ENG_NM SIG_KOR_NM  \\\n",
       "167  43111   Cheongju         청주   \n",
       "168  47111  Pohang-si         포항   \n",
       "169  48121   Changwon         창원   \n",
       "170  44131    Cheonan         천안   \n",
       "171  31110      Ulsan         울산   \n",
       "\n",
       "                                              geometry  \n",
       "167  POLYGON ((1010533.214 1856610.411, 1010536.149...  \n",
       "168  MULTIPOLYGON (((1181905.008 1785427.049, 11819...  \n",
       "169  MULTIPOLYGON (((1103125.017 1692322.123, 11031...  \n",
       "170  POLYGON ((981931.111 1876834.770, 981951.314 1...  \n",
       "171  MULTIPOLYGON (((1169009.652 1729037.319, 11689...  "
      ]
     },
     "execution_count": 4,
     "metadata": {},
     "output_type": "execute_result"
    }
   ],
   "source": [
    "map_data = 'map/SIG/sig.shp'\n",
    "map = gpd.read_file(map_data,encoding='euc-kr')\n",
    "map.tail()"
   ]
  },
  {
   "cell_type": "code",
   "execution_count": 5,
   "id": "e80ea2d7-6eac-4dec-9742-37043c1384c9",
   "metadata": {
    "tags": []
   },
   "outputs": [],
   "source": [
    "# map.plot()\n",
    "# plt.show()"
   ]
  },
  {
   "cell_type": "code",
   "execution_count": 6,
   "id": "b70e8a59-359c-4c52-a8f1-8d5b743516ab",
   "metadata": {},
   "outputs": [],
   "source": [
    "map.to_file('map/save_test/test.shp',driver='ESRI Shapefile',encoding='cp949')"
   ]
  },
  {
   "cell_type": "code",
   "execution_count": null,
   "id": "5e457109-3248-4eb6-9aef-d9278ceddd23",
   "metadata": {},
   "outputs": [],
   "source": []
  }
 ],
 "metadata": {
  "kernelspec": {
   "display_name": "Python 3 (ipykernel)",
   "language": "python",
   "name": "python3"
  },
  "language_info": {
   "codemirror_mode": {
    "name": "ipython",
    "version": 3
   },
   "file_extension": ".py",
   "mimetype": "text/x-python",
   "name": "python",
   "nbconvert_exporter": "python",
   "pygments_lexer": "ipython3",
   "version": "3.9.15"
  }
 },
 "nbformat": 4,
 "nbformat_minor": 5
}
