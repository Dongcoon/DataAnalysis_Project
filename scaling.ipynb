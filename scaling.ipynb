{
 "cells": [
  {
   "cell_type": "code",
   "execution_count": 27,
   "id": "dd064483-6cc5-40bd-8021-a5ebcb7c2f36",
   "metadata": {},
   "outputs": [],
   "source": [
    "import numpy as np\n",
    "import pandas as pd\n",
    "import matplotlib.pyplot as plt\n",
    "import seaborn as sns\n",
    "\n",
    "from statsmodels.formula.api import ols\n",
    "from sklearn.preprocessing import StandardScaler"
   ]
  },
  {
   "cell_type": "code",
   "execution_count": 28,
   "id": "09840f01-8cd8-4103-bb46-8f4d68f8d32a",
   "metadata": {},
   "outputs": [],
   "source": [
    "df = pd.read_csv('data/unmatch_data1.csv',encoding='euc-kr').drop(columns=['Unnamed: 0'])"
   ]
  },
  {
   "cell_type": "code",
   "execution_count": 29,
   "id": "58d974aa-91bd-4db1-bcff-b0d954e22081",
   "metadata": {},
   "outputs": [],
   "source": [
    "scale = df.iloc[:,6:]\n",
    "std = StandardScaler()\n",
    "std.fit(scale)\n",
    "sdf = std.transform(scale)"
   ]
  },
  {
   "cell_type": "code",
   "execution_count": 30,
   "id": "be6d1a01-1dd9-49d7-b142-2cfd9acc0c15",
   "metadata": {
    "tags": []
   },
   "outputs": [],
   "source": [
    "sdf = pd.DataFrame(sdf)\n",
    "sdf.columns = ['avg_tem','precip', 'wind', 'min_tem', 'hPa', 'sun', 'g_tem','start','climax']\n",
    "sdf['location'] = df.location\n",
    "sdf['month'] = df.month\n",
    "sdf['start_ori'] = df.start\n",
    "sdf['climax_ori'] = df.climax"
   ]
  },
  {
   "cell_type": "code",
   "execution_count": 31,
   "id": "ada56e9f-b8c1-4460-b3db-4aec9abbce3a",
   "metadata": {},
   "outputs": [],
   "source": [
    "sdf.to_csv('result/scale_data2.csv',encoding='cp949',index=False)"
   ]
  },
  {
   "cell_type": "code",
   "execution_count": null,
   "id": "6339fd18-3f32-4b21-ab07-e6e144f8b4db",
   "metadata": {},
   "outputs": [],
   "source": []
  }
 ],
 "metadata": {
  "kernelspec": {
   "display_name": "Python 3 (ipykernel)",
   "language": "python",
   "name": "python3"
  },
  "language_info": {
   "codemirror_mode": {
    "name": "ipython",
    "version": 3
   },
   "file_extension": ".py",
   "mimetype": "text/x-python",
   "name": "python",
   "nbconvert_exporter": "python",
   "pygments_lexer": "ipython3",
   "version": "3.9.15"
  }
 },
 "nbformat": 4,
 "nbformat_minor": 5
}
